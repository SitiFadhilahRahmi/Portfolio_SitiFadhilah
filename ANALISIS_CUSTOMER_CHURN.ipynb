{
  "nbformat": 4,
  "nbformat_minor": 0,
  "metadata": {
    "colab": {
      "provenance": [],
      "authorship_tag": "ABX9TyO4Z/rm2gUQAlycWA4SHG59",
      "include_colab_link": true
    },
    "kernelspec": {
      "name": "python3",
      "display_name": "Python 3"
    },
    "language_info": {
      "name": "python"
    }
  },
  "cells": [
    {
      "cell_type": "markdown",
      "metadata": {
        "id": "view-in-github",
        "colab_type": "text"
      },
      "source": [
        "<a href=\"https://colab.research.google.com/github/SitiFadhilahRahmi/Portfolio_SitiFadhilah/blob/main/ANALISIS_CUSTOMER_CHURN.ipynb\" target=\"_parent\"><img src=\"https://colab.research.google.com/assets/colab-badge.svg\" alt=\"Open In Colab\"/></a>"
      ]
    },
    {
      "cell_type": "code",
      "execution_count": null,
      "metadata": {
        "id": "s2aKoTrSh2GH"
      },
      "outputs": [],
      "source": [
        "import pandas as pd\n",
        "import numpy as np\n",
        "import matplotlib.pyplot as plt\n",
        "import seaborn as sns\n",
        "from sklearn.model_selection import train_test_split\n",
        "from sklearn.preprocessing import StandardScaler, OneHotEncoder\n",
        "from sklearn.compose import ColumnTransformer\n",
        "from sklearn.pipeline import Pipeline\n",
        "from sklearn.ensemble import RandomForestClassifier\n",
        "from sklearn.metrics import classification_report, confusion_matrix\n",
        "import warnings\n",
        "warnings.filterwarnings(\"ignore\")"
      ]
    },
    {
      "cell_type": "code",
      "source": [
        "data = pd.read_csv('/content/Telco-Customer-Churn.csv')\n",
        "print(data.head())"
      ],
      "metadata": {
        "colab": {
          "base_uri": "https://localhost:8080/"
        },
        "id": "a_7OMP-3iJHx",
        "outputId": "235d6295-2798-44c6-f311-9bce2d26f964"
      },
      "execution_count": null,
      "outputs": [
        {
          "output_type": "stream",
          "name": "stdout",
          "text": [
            "   customerID  gender  SeniorCitizen Partner Dependents  tenure PhoneService  \\\n",
            "0  7590-VHVEG       F              0     Yes         No     1.0           No   \n",
            "1  5575-GNVDE    Male              0      No         No    34.0          Yes   \n",
            "2  3668-QPYBK    Male              0      No         No     2.0          Yes   \n",
            "3  7795-CFOCW    Male              0      No         No    45.0           No   \n",
            "4  9237-HQITU  Female              0      No         No     2.0          Yes   \n",
            "\n",
            "      MultipleLines InternetService OnlineSecurity  ... DeviceProtection  \\\n",
            "0  No phone service             DSL             No  ...               No   \n",
            "1                No             DSL            Yes  ...              Yes   \n",
            "2                No             DSL            Yes  ...               No   \n",
            "3  No phone service             DSL            Yes  ...              Yes   \n",
            "4                No     Fiber optic             No  ...               No   \n",
            "\n",
            "  TechSupport StreamingTV StreamingMovies        Contract PaperlessBilling  \\\n",
            "0          No          No              No  Month-to-month              Yes   \n",
            "1          No          No              No        One year               No   \n",
            "2          No          No              No  Month-to-month              Yes   \n",
            "3         Yes          No              No        One year               No   \n",
            "4          No          No              No  Month-to-month              Yes   \n",
            "\n",
            "               PaymentMethod MonthlyCharges  TotalCharges Churn  \n",
            "0           Electronic check          29.85         29.85    No  \n",
            "1               Mailed check          56.95        1889.5    No  \n",
            "2               Mailed check          53.85        108.15   Yes  \n",
            "3  Bank transfer (automatic)          42.30       1840.75    No  \n",
            "4           Electronic check          70.70        151.65   Yes  \n",
            "\n",
            "[5 rows x 21 columns]\n"
          ]
        }
      ]
    },
    {
      "cell_type": "code",
      "source": [
        "print(data.columns)"
      ],
      "metadata": {
        "colab": {
          "base_uri": "https://localhost:8080/"
        },
        "id": "jDu4x1DNiW3u",
        "outputId": "48a6e2ff-08dc-490d-f869-d37db147e36b"
      },
      "execution_count": null,
      "outputs": [
        {
          "output_type": "stream",
          "name": "stdout",
          "text": [
            "Index(['customerID', 'gender', 'SeniorCitizen', 'Partner', 'Dependents',\n",
            "       'tenure', 'PhoneService', 'MultipleLines', 'InternetService',\n",
            "       'OnlineSecurity', 'OnlineBackup', 'DeviceProtection', 'TechSupport',\n",
            "       'StreamingTV', 'StreamingMovies', 'Contract', 'PaperlessBilling',\n",
            "       'PaymentMethod', 'MonthlyCharges', 'TotalCharges', 'Churn'],\n",
            "      dtype='object')\n"
          ]
        }
      ]
    },
    {
      "cell_type": "code",
      "source": [
        "print(data.shape)"
      ],
      "metadata": {
        "colab": {
          "base_uri": "https://localhost:8080/"
        },
        "id": "fC2rnDkKiysI",
        "outputId": "bbd36142-b58f-451d-8a3a-c6cc9fc8d2b4"
      },
      "execution_count": null,
      "outputs": [
        {
          "output_type": "stream",
          "name": "stdout",
          "text": [
            "(7043, 21)\n"
          ]
        }
      ]
    },
    {
      "cell_type": "code",
      "source": [
        "print(data.describe())"
      ],
      "metadata": {
        "colab": {
          "base_uri": "https://localhost:8080/"
        },
        "id": "WjW9Mfuui6jZ",
        "outputId": "9bb4545b-5a11-40d6-83ec-84c0e30f9b13"
      },
      "execution_count": null,
      "outputs": [
        {
          "output_type": "stream",
          "name": "stdout",
          "text": [
            "       SeniorCitizen       tenure  MonthlyCharges\n",
            "count    7043.000000  7040.000000     7043.000000\n",
            "mean        0.162147    35.043892       64.761692\n",
            "std         0.368612   115.282871       30.090047\n",
            "min         0.000000     0.000000       18.250000\n",
            "25%         0.000000     9.000000       35.500000\n",
            "50%         0.000000    29.000000       70.350000\n",
            "75%         0.000000    55.000000       89.850000\n",
            "max         1.000000  7100.000000      118.750000\n"
          ]
        }
      ]
    },
    {
      "cell_type": "code",
      "source": [
        "print(data.isnull().sum())"
      ],
      "metadata": {
        "colab": {
          "base_uri": "https://localhost:8080/"
        },
        "id": "MRYkH0TgjBkN",
        "outputId": "e964001e-99b3-4448-ae2c-81f5af505a24"
      },
      "execution_count": null,
      "outputs": [
        {
          "output_type": "stream",
          "name": "stdout",
          "text": [
            "customerID          0\n",
            "gender              5\n",
            "SeniorCitizen       0\n",
            "Partner             0\n",
            "Dependents          0\n",
            "tenure              3\n",
            "PhoneService        0\n",
            "MultipleLines       0\n",
            "InternetService     0\n",
            "OnlineSecurity      0\n",
            "OnlineBackup        0\n",
            "DeviceProtection    0\n",
            "TechSupport         0\n",
            "StreamingTV         0\n",
            "StreamingMovies     0\n",
            "Contract            0\n",
            "PaperlessBilling    0\n",
            "PaymentMethod       0\n",
            "MonthlyCharges      0\n",
            "TotalCharges        0\n",
            "Churn               0\n",
            "dtype: int64\n"
          ]
        }
      ]
    },
    {
      "cell_type": "code",
      "source": [
        "print(data.duplicated().sum())"
      ],
      "metadata": {
        "id": "FiYo6hR9kWpD",
        "colab": {
          "base_uri": "https://localhost:8080/"
        },
        "outputId": "01247762-45e7-42a1-c8f2-34a03215252b"
      },
      "execution_count": null,
      "outputs": [
        {
          "output_type": "stream",
          "name": "stdout",
          "text": [
            "0\n"
          ]
        }
      ]
    },
    {
      "cell_type": "code",
      "source": [
        "print(data.dtypes)"
      ],
      "metadata": {
        "colab": {
          "base_uri": "https://localhost:8080/"
        },
        "id": "vl2ub9qkjtZi",
        "outputId": "26d7f203-4116-484e-9b29-de18c562b4f7"
      },
      "execution_count": null,
      "outputs": [
        {
          "output_type": "stream",
          "name": "stdout",
          "text": [
            "customerID           object\n",
            "gender               object\n",
            "SeniorCitizen         int64\n",
            "Partner              object\n",
            "Dependents           object\n",
            "tenure              float64\n",
            "PhoneService         object\n",
            "MultipleLines        object\n",
            "InternetService      object\n",
            "OnlineSecurity       object\n",
            "OnlineBackup         object\n",
            "DeviceProtection     object\n",
            "TechSupport          object\n",
            "StreamingTV          object\n",
            "StreamingMovies      object\n",
            "Contract             object\n",
            "PaperlessBilling     object\n",
            "PaymentMethod        object\n",
            "MonthlyCharges      float64\n",
            "TotalCharges         object\n",
            "Churn                object\n",
            "dtype: object\n"
          ]
        }
      ]
    },
    {
      "cell_type": "code",
      "source": [
        "data['TotalCharges'] = pd.to_numeric(data['TotalCharges'], errors='coerce')\n",
        "data.dropna(subset=['TotalCharges'], inplace=True)\n",
        "data['SeniorCitizen'] = data['SeniorCitizen'].astype('object')"
      ],
      "metadata": {
        "id": "xmDKZecolKn1"
      },
      "execution_count": null,
      "outputs": []
    },
    {
      "cell_type": "code",
      "source": [
        "print(data.dtypes)"
      ],
      "metadata": {
        "colab": {
          "base_uri": "https://localhost:8080/"
        },
        "id": "PLZB-4-clZF7",
        "outputId": "c2b764db-4a90-43c9-f086-9f5e7244ec54"
      },
      "execution_count": null,
      "outputs": [
        {
          "output_type": "stream",
          "name": "stdout",
          "text": [
            "customerID           object\n",
            "gender               object\n",
            "SeniorCitizen        object\n",
            "Partner              object\n",
            "Dependents           object\n",
            "tenure              float64\n",
            "PhoneService         object\n",
            "MultipleLines        object\n",
            "InternetService      object\n",
            "OnlineSecurity       object\n",
            "OnlineBackup         object\n",
            "DeviceProtection     object\n",
            "TechSupport          object\n",
            "StreamingTV          object\n",
            "StreamingMovies      object\n",
            "Contract             object\n",
            "PaperlessBilling     object\n",
            "PaymentMethod        object\n",
            "MonthlyCharges      float64\n",
            "TotalCharges        float64\n",
            "Churn                object\n",
            "dtype: object\n"
          ]
        }
      ]
    },
    {
      "cell_type": "code",
      "source": [
        "data['tenure'] = data['tenure'].fillna(data['tenure'].median())"
      ],
      "metadata": {
        "id": "jUm7XvuMqno_"
      },
      "execution_count": null,
      "outputs": []
    },
    {
      "cell_type": "code",
      "source": [
        "data['gender'] = data['gender'].fillna(data['gender'].mode()[0])"
      ],
      "metadata": {
        "id": "yNj3tdsyq6qw"
      },
      "execution_count": null,
      "outputs": []
    },
    {
      "cell_type": "code",
      "source": [
        "print(data.isnull().sum())"
      ],
      "metadata": {
        "colab": {
          "base_uri": "https://localhost:8080/"
        },
        "id": "mY7CdoqnpkfO",
        "outputId": "3fc696be-29c8-451d-d675-dbcfae49c3d5"
      },
      "execution_count": null,
      "outputs": [
        {
          "output_type": "stream",
          "name": "stdout",
          "text": [
            "customerID          0\n",
            "gender              0\n",
            "SeniorCitizen       0\n",
            "Partner             0\n",
            "Dependents          0\n",
            "tenure              0\n",
            "PhoneService        0\n",
            "MultipleLines       0\n",
            "InternetService     0\n",
            "OnlineSecurity      0\n",
            "OnlineBackup        0\n",
            "DeviceProtection    0\n",
            "TechSupport         0\n",
            "StreamingTV         0\n",
            "StreamingMovies     0\n",
            "Contract            0\n",
            "PaperlessBilling    0\n",
            "PaymentMethod       0\n",
            "MonthlyCharges      0\n",
            "TotalCharges        0\n",
            "Churn               0\n",
            "dtype: int64\n"
          ]
        }
      ]
    },
    {
      "cell_type": "code",
      "source": [
        "sns.boxplot(data['tenure'])"
      ],
      "metadata": {
        "colab": {
          "base_uri": "https://localhost:8080/",
          "height": 429
        },
        "id": "4gCtInHGn2Fb",
        "outputId": "7c8e2046-b643-4aaa-a456-ef912e325971"
      },
      "execution_count": null,
      "outputs": [
        {
          "output_type": "execute_result",
          "data": {
            "text/plain": [
              "<Axes: ylabel='tenure'>"
            ]
          },
          "metadata": {},
          "execution_count": 117
        },
        {
          "output_type": "display_data",
          "data": {
            "text/plain": [
              "<Figure size 640x480 with 1 Axes>"
            ],
            "image/png": "[encoded data removed]"
          },
          "metadata": {}
        }
      ]
    },
    {
      "cell_type": "code",
      "source": [
        "sns.boxplot(data['MonthlyCharges'])"
      ],
      "metadata": {
        "colab": {
          "base_uri": "https://localhost:8080/",
          "height": 429
        },
        "id": "dU7XRqMckiyE",
        "outputId": "be93bb8a-3171-4c5e-80cb-b1784fdcd4b8"
      },
      "execution_count": null,
      "outputs": [
        {
          "output_type": "execute_result",
          "data": {
            "text/plain": [
              "<Axes: ylabel='MonthlyCharges'>"
            ]
          },
          "metadata": {},
          "execution_count": 118
        },
        {
          "output_type": "display_data",
          "data": {
            "text/plain": [
              "<Figure size 640x480 with 1 Axes>"
            ],
            "image/png": "[encoded data removed]"
          },
          "metadata": {}
        }
      ]
    },
    {
      "cell_type": "code",
      "source": [
        "sns.boxplot(data['TotalCharges'])"
      ],
      "metadata": {
        "colab": {
          "base_uri": "https://localhost:8080/",
          "height": 429
        },
        "id": "KiUxtkhlkutr",
        "outputId": "f6049e98-d167-48d3-db74-4b499561c7de"
      },
      "execution_count": null,
      "outputs": [
        {
          "output_type": "execute_result",
          "data": {
            "text/plain": [
              "<Axes: ylabel='TotalCharges'>"
            ]
          },
          "metadata": {},
          "execution_count": 119
        },
        {
          "output_type": "display_data",
          "data": {
            "text/plain": [
              "<Figure size 640x480 with 1 Axes>"
            ],
            "image/png": "[encoded data removed]"
          },
          "metadata": {}
        }
      ]
    },
    {
      "cell_type": "code",
      "source": [
        "Q1 = data['tenure'].quantile(0.25)  # Kuartil pertama\n",
        "Q3 = data['tenure'].quantile(0.75)  # Kuartil ketiga\n",
        "IQR = Q3 - Q1                       # Rentang interkuartil\n",
        "\n",
        "# Batas bawah dan atas\n",
        "lower_bound = Q1 - 1.5 * IQR\n",
        "upper_bound = Q3 + 1.5 * IQR\n",
        "\n",
        "#Trimming\n",
        "data = data[(data['tenure'] >= lower_bound) & (data['tenure'] <= upper_bound)]\n",
        "\n",
        "#Setelah di trimming\n",
        "sns.boxplot(data['tenure'])"
      ],
      "metadata": {
        "colab": {
          "base_uri": "https://localhost:8080/",
          "height": 429
        },
        "id": "vTFbf2cWqKlS",
        "outputId": "a8bed151-0160-4ef8-a137-9d4ace46e0c8"
      },
      "execution_count": null,
      "outputs": [
        {
          "output_type": "execute_result",
          "data": {
            "text/plain": [
              "<Axes: ylabel='tenure'>"
            ]
          },
          "metadata": {},
          "execution_count": 120
        },
        {
          "output_type": "display_data",
          "data": {
            "text/plain": [
              "<Figure size 640x480 with 1 Axes>"
            ],
            "image/png": "[encoded data removed]"
          },
          "metadata": {}
        }
      ]
    },
    {
      "cell_type": "code",
      "source": [
        "print(data.dtypes)"
      ],
      "metadata": {
        "colab": {
          "base_uri": "https://localhost:8080/"
        },
        "id": "BPSa1YGs0WGH",
        "outputId": "50e7f117-00c0-4f9c-b630-4b87fd51a071"
      },
      "execution_count": null,
      "outputs": [
        {
          "output_type": "stream",
          "name": "stdout",
          "text": [
            "customerID           object\n",
            "gender               object\n",
            "SeniorCitizen        object\n",
            "Partner              object\n",
            "Dependents           object\n",
            "tenure              float64\n",
            "PhoneService         object\n",
            "MultipleLines        object\n",
            "InternetService      object\n",
            "OnlineSecurity       object\n",
            "OnlineBackup         object\n",
            "DeviceProtection     object\n",
            "TechSupport          object\n",
            "StreamingTV          object\n",
            "StreamingMovies      object\n",
            "Contract             object\n",
            "PaperlessBilling     object\n",
            "PaymentMethod        object\n",
            "MonthlyCharges      float64\n",
            "TotalCharges        float64\n",
            "Churn                object\n",
            "dtype: object\n"
          ]
        }
      ]
    },
    {
      "cell_type": "code",
      "source": [
        "print(data.describe(include='all'))  # Menampilkan statistik deskriptif untuk semua kolom"
      ],
      "metadata": {
        "colab": {
          "base_uri": "https://localhost:8080/"
        },
        "id": "4kRUFlnH1ant",
        "outputId": "4aca0fdf-8e55-476d-a592-4c85350f708f"
      },
      "execution_count": null,
      "outputs": [
        {
          "output_type": "stream",
          "name": "stdout",
          "text": [
            "        customerID gender  SeniorCitizen Partner Dependents       tenure  \\\n",
            "count         7027   7027         7027.0    7027       7027  7027.000000   \n",
            "unique        7027      4            2.0       2          2          NaN   \n",
            "top     7590-VHVEG   Male            0.0      No         No          NaN   \n",
            "freq             1   3548         5885.0    3638       4929          NaN   \n",
            "mean           NaN    NaN            NaN     NaN        NaN    32.417248   \n",
            "std            NaN    NaN            NaN     NaN        NaN    24.545237   \n",
            "min            NaN    NaN            NaN     NaN        NaN     1.000000   \n",
            "25%            NaN    NaN            NaN     NaN        NaN     9.000000   \n",
            "50%            NaN    NaN            NaN     NaN        NaN    29.000000   \n",
            "75%            NaN    NaN            NaN     NaN        NaN    55.000000   \n",
            "max            NaN    NaN            NaN     NaN        NaN    72.000000   \n",
            "\n",
            "       PhoneService MultipleLines InternetService OnlineSecurity  ...  \\\n",
            "count          7027          7027            7027           7027  ...   \n",
            "unique            2             3               3              3  ...   \n",
            "top             Yes            No     Fiber optic             No  ...   \n",
            "freq           6347          3383            3094           3495  ...   \n",
            "mean            NaN           NaN             NaN            NaN  ...   \n",
            "std             NaN           NaN             NaN            NaN  ...   \n",
            "min             NaN           NaN             NaN            NaN  ...   \n",
            "25%             NaN           NaN             NaN            NaN  ...   \n",
            "50%             NaN           NaN             NaN            NaN  ...   \n",
            "75%             NaN           NaN             NaN            NaN  ...   \n",
            "max             NaN           NaN             NaN            NaN  ...   \n",
            "\n",
            "       DeviceProtection TechSupport StreamingTV StreamingMovies  \\\n",
            "count              7027        7027        7027            7027   \n",
            "unique                3           3           3               3   \n",
            "top                  No          No          No              No   \n",
            "freq               3092        3470        2808            2780   \n",
            "mean                NaN         NaN         NaN             NaN   \n",
            "std                 NaN         NaN         NaN             NaN   \n",
            "min                 NaN         NaN         NaN             NaN   \n",
            "25%                 NaN         NaN         NaN             NaN   \n",
            "50%                 NaN         NaN         NaN             NaN   \n",
            "75%                 NaN         NaN         NaN             NaN   \n",
            "max                 NaN         NaN         NaN             NaN   \n",
            "\n",
            "              Contract PaperlessBilling     PaymentMethod MonthlyCharges  \\\n",
            "count             7027             7027              7027    7027.000000   \n",
            "unique               3                2                 4            NaN   \n",
            "top     Month-to-month              Yes  Electronic check            NaN   \n",
            "freq              3873             4166              2363            NaN   \n",
            "mean               NaN              NaN               NaN      64.801978   \n",
            "std                NaN              NaN               NaN      30.083757   \n",
            "min                NaN              NaN               NaN      18.250000   \n",
            "25%                NaN              NaN               NaN      35.625000   \n",
            "50%                NaN              NaN               NaN      70.350000   \n",
            "75%                NaN              NaN               NaN      89.875000   \n",
            "max                NaN              NaN               NaN     118.750000   \n",
            "\n",
            "        TotalCharges  Churn  \n",
            "count    7027.000000   7027  \n",
            "unique           NaN      2  \n",
            "top              NaN     No  \n",
            "freq             NaN   5160  \n",
            "mean     2283.638338    NaN  \n",
            "std      2267.472290    NaN  \n",
            "min        18.800000    NaN  \n",
            "25%       401.200000    NaN  \n",
            "50%      1396.900000    NaN  \n",
            "75%      3798.375000    NaN  \n",
            "max      8684.800000    NaN  \n",
            "\n",
            "[11 rows x 21 columns]\n"
          ]
        }
      ]
    },
    {
      "cell_type": "code",
      "source": [
        "correlation = data[['tenure', 'MonthlyCharges', 'TotalCharges']].corr()\n",
        "sns.heatmap(correlation, annot=True, cmap='coolwarm')"
      ],
      "metadata": {
        "colab": {
          "base_uri": "https://localhost:8080/",
          "height": 452
        },
        "id": "8vLK0Acn2Ykj",
        "outputId": "780d0e8f-5a3d-426d-9cc3-b8ea2f502399"
      },
      "execution_count": null,
      "outputs": [
        {
          "output_type": "execute_result",
          "data": {
            "text/plain": [
              "<Axes: >"
            ]
          },
          "metadata": {},
          "execution_count": 125
        },
        {
          "output_type": "display_data",
          "data": {
            "text/plain": [
              "<Figure size 640x480 with 2 Axes>"
            ],
            "image/png": "[encoded data removed]"
          },
          "metadata": {}
        }
      ]
    }
  ]
}